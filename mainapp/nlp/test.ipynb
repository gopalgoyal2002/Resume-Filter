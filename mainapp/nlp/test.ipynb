{
 "cells": [
  {
   "cell_type": "code",
   "execution_count": 10,
   "metadata": {},
   "outputs": [
    {
     "name": "stdout",
     "output_type": "stream",
     "text": [
      "Collecting https://github.com/explosion/spacy-models/releases/download/en_core_web_sm-2.3.1/en_core_web_sm-2.3.1.tar.gz\n",
      "  Using cached https://github.com/explosion/spacy-models/releases/download/en_core_web_sm-2.3.1/en_core_web_sm-2.3.1.tar.gz (12.0 MB)\n",
      "  Preparing metadata (setup.py) ... \u001b[?25ldone\n",
      "\u001b[?25hRequirement already satisfied: spacy<2.4.0,>=2.3.0 in /Users/gopalgoyal/opt/anaconda3/envs/cenv/lib/python3.10/site-packages (from en-core-web-sm==2.3.1) (2.3.9)\n",
      "Requirement already satisfied: murmurhash<1.1.0,>=0.28.0 in /Users/gopalgoyal/opt/anaconda3/envs/cenv/lib/python3.10/site-packages (from spacy<2.4.0,>=2.3.0->en-core-web-sm==2.3.1) (1.0.7)\n",
      "Requirement already satisfied: blis<0.8.0,>=0.4.0 in /Users/gopalgoyal/opt/anaconda3/envs/cenv/lib/python3.10/site-packages (from spacy<2.4.0,>=2.3.0->en-core-web-sm==2.3.1) (0.7.8)\n",
      "Requirement already satisfied: catalogue<1.1.0,>=0.0.7 in /Users/gopalgoyal/opt/anaconda3/envs/cenv/lib/python3.10/site-packages (from spacy<2.4.0,>=2.3.0->en-core-web-sm==2.3.1) (1.0.2)\n",
      "Requirement already satisfied: preshed<3.1.0,>=3.0.2 in /Users/gopalgoyal/opt/anaconda3/envs/cenv/lib/python3.10/site-packages (from spacy<2.4.0,>=2.3.0->en-core-web-sm==2.3.1) (3.0.6)\n",
      "Requirement already satisfied: srsly<1.1.0,>=1.0.2 in /Users/gopalgoyal/opt/anaconda3/envs/cenv/lib/python3.10/site-packages (from spacy<2.4.0,>=2.3.0->en-core-web-sm==2.3.1) (1.0.6)\n",
      "Requirement already satisfied: tqdm<5.0.0,>=4.38.0 in /Users/gopalgoyal/opt/anaconda3/envs/cenv/lib/python3.10/site-packages (from spacy<2.4.0,>=2.3.0->en-core-web-sm==2.3.1) (4.64.0)\n",
      "Requirement already satisfied: wasabi<1.1.0,>=0.4.0 in /Users/gopalgoyal/opt/anaconda3/envs/cenv/lib/python3.10/site-packages (from spacy<2.4.0,>=2.3.0->en-core-web-sm==2.3.1) (0.9.1)\n",
      "Requirement already satisfied: plac<1.2.0,>=0.9.6 in /Users/gopalgoyal/opt/anaconda3/envs/cenv/lib/python3.10/site-packages (from spacy<2.4.0,>=2.3.0->en-core-web-sm==2.3.1) (1.1.3)\n",
      "Requirement already satisfied: cymem<2.1.0,>=2.0.2 in /Users/gopalgoyal/opt/anaconda3/envs/cenv/lib/python3.10/site-packages (from spacy<2.4.0,>=2.3.0->en-core-web-sm==2.3.1) (2.0.6)\n",
      "Requirement already satisfied: setuptools in /Users/gopalgoyal/opt/anaconda3/envs/cenv/lib/python3.10/site-packages (from spacy<2.4.0,>=2.3.0->en-core-web-sm==2.3.1) (63.4.1)\n",
      "Requirement already satisfied: numpy>=1.15.0 in /Users/gopalgoyal/opt/anaconda3/envs/cenv/lib/python3.10/site-packages (from spacy<2.4.0,>=2.3.0->en-core-web-sm==2.3.1) (1.23.1)\n",
      "Requirement already satisfied: requests<3.0.0,>=2.13.0 in /Users/gopalgoyal/opt/anaconda3/envs/cenv/lib/python3.10/site-packages (from spacy<2.4.0,>=2.3.0->en-core-web-sm==2.3.1) (2.28.1)\n",
      "Requirement already satisfied: thinc<7.5.0,>=7.4.1 in /Users/gopalgoyal/opt/anaconda3/envs/cenv/lib/python3.10/site-packages (from spacy<2.4.0,>=2.3.0->en-core-web-sm==2.3.1) (7.4.6)\n",
      "Requirement already satisfied: urllib3<1.27,>=1.21.1 in /Users/gopalgoyal/opt/anaconda3/envs/cenv/lib/python3.10/site-packages (from requests<3.0.0,>=2.13.0->spacy<2.4.0,>=2.3.0->en-core-web-sm==2.3.1) (1.26.11)\n",
      "Requirement already satisfied: certifi>=2017.4.17 in /Users/gopalgoyal/opt/anaconda3/envs/cenv/lib/python3.10/site-packages (from requests<3.0.0,>=2.13.0->spacy<2.4.0,>=2.3.0->en-core-web-sm==2.3.1) (2022.6.15)\n",
      "Requirement already satisfied: charset-normalizer<3,>=2 in /Users/gopalgoyal/opt/anaconda3/envs/cenv/lib/python3.10/site-packages (from requests<3.0.0,>=2.13.0->spacy<2.4.0,>=2.3.0->en-core-web-sm==2.3.1) (2.0.4)\n",
      "Requirement already satisfied: idna<4,>=2.5 in /Users/gopalgoyal/opt/anaconda3/envs/cenv/lib/python3.10/site-packages (from requests<3.0.0,>=2.13.0->spacy<2.4.0,>=2.3.0->en-core-web-sm==2.3.1) (3.3)\n"
     ]
    }
   ],
   "source": [
    "!pip install https://github.com/explosion/spacy-models/releases/download/en_core_web_sm-2.3.1/en_core_web_sm-2.3.1.tar.gz"
   ]
  },
  {
   "cell_type": "code",
   "execution_count": 1,
   "metadata": {},
   "outputs": [
    {
     "ename": "ModuleNotFoundError",
     "evalue": "No module named 'nlp'",
     "output_type": "error",
     "traceback": [
      "\u001b[0;31m---------------------------------------------------------------------------\u001b[0m",
      "\u001b[0;31mModuleNotFoundError\u001b[0m                       Traceback (most recent call last)",
      "\u001b[1;32m/Users/gopalgoyal/Desktop/resume parsing/App/uploadApp/mainapp/nlp/test.ipynb Cell 2\u001b[0m in \u001b[0;36m<cell line: 1>\u001b[0;34m()\u001b[0m\n\u001b[0;32m----> <a href='vscode-notebook-cell:/Users/gopalgoyal/Desktop/resume%20parsing/App/uploadApp/mainapp/nlp/test.ipynb#W1sZmlsZQ%3D%3D?line=0'>1</a>\u001b[0m \u001b[39mfrom\u001b[39;00m \u001b[39mpipeline\u001b[39;00m \u001b[39mimport\u001b[39;00m extract_details\n",
      "File \u001b[0;32m~/Desktop/resume parsing/App/uploadApp/mainapp/nlp/pipeline.py:1\u001b[0m, in \u001b[0;36m<module>\u001b[0;34m\u001b[0m\n\u001b[0;32m----> 1\u001b[0m \u001b[39mfrom\u001b[39;00m \u001b[39mnlp\u001b[39;00m\u001b[39m.\u001b[39;00m\u001b[39mextractText\u001b[39;00m \u001b[39mimport\u001b[39;00m extract_text_from_pdf\n\u001b[1;32m      2\u001b[0m \u001b[39mfrom\u001b[39;00m \u001b[39mnlp\u001b[39;00m\u001b[39m.\u001b[39;00m\u001b[39mextractEmail\u001b[39;00m \u001b[39mimport\u001b[39;00m extract_emails\n\u001b[1;32m      3\u001b[0m \u001b[39mfrom\u001b[39;00m \u001b[39mnlp\u001b[39;00m\u001b[39m.\u001b[39;00m\u001b[39mextractPhone\u001b[39;00m \u001b[39mimport\u001b[39;00m extract_phone_number\n",
      "\u001b[0;31mModuleNotFoundError\u001b[0m: No module named 'nlp'"
     ]
    }
   ],
   "source": [
    "from pipeline import extract_details"
   ]
  },
  {
   "cell_type": "code",
   "execution_count": 2,
   "metadata": {},
   "outputs": [
    {
     "name": "stderr",
     "output_type": "stream",
     "text": [
      "/Users/gopalgoyal/opt/anaconda3/envs/cenv/lib/python3.10/site-packages/spacy/util.py:275: UserWarning: [W031] Model 'en_training' (0.0.0) requires spaCy v2.1 and is incompatible with the current spaCy version (2.3.9). This may lead to unexpected results or runtime errors. To resolve this, download a newer compatible model or retrain your custom model with the current spaCy version. For more details and available updates, run: python -m spacy validate\n",
      "  warnings.warn(warn_msg)\n"
     ]
    },
    {
     "name": "stdout",
     "output_type": "stream",
     "text": [
      "Aim of this\n",
      "ANIL JATOLIYA\n",
      "Aravind Sundarraj\n",
      "Yash Jain\n",
      "Adrija Karmakar\n",
      "AMRITHA K\n",
      "Maksud Girase\n",
      "IVIN SIBY GEORGE\n",
      "PRANOY ARUN DAS\n",
      "Suvendu Samanta\n",
      "SYED MD NADEEM\n",
      "SHARMISTHA ADHIKARI\n",
      "Nishi Chaudhary\n",
      "Nimesh Srivastava\n",
      "Mr. Shubham Sambhaji Salokhe\n",
      "Python Programmer\n",
      "ARYAMAAN SAHA\n",
      "Hima Sindhu\n",
      "Sakar Baxi\n",
      "Myself Swathi\n",
      "PRANAV KUMAR SINGH\n",
      "PRIYANKA MEENA\n",
      "Profile Summary\n",
      "Summary\n",
      "(+91\n",
      "Nandhini Ravisankar\n",
      "M. Sc\n",
      "City, State\n",
      "Approach\n",
      "Pratik Sonar\n",
      "Risha Rodrigues\n",
      "KAZI JISHAN\n",
      "Hrushikesh Chaphalkar\n",
      "Ujwal Shantaram Nafade\n",
      "Deeksha Chutani\n",
      "Kishan Kumar\n",
      "Tirna Mahajan\n",
      "Ramkrishna Khan\n",
      "Riya Saxena\n",
      "\n",
      "AMAN HUSAIN\n",
      "Mob.\n",
      "Pratyush Menon\n",
      "Rama Gokhale\n",
      "Rashmi Biswas\n",
      "BICKEY SHAH\n",
      "Anup Roy\n",
      "Working Feb\n",
      "Adarsh Kumar\n",
      "Kavya Aripekatta Mohan\n",
      "PIYUSH DESHMUKH\n",
      "SRIBATSA MOHRANA\n",
      "ANIKET ROUTH\n",
      "ARITRA CHAKRABORTY\n",
      "DEVADUTTA DASH\n",
      "NATASHA AGARWAL\n",
      "KRISHNA RAUNIYAR\n",
      "T. Harish\n",
      "HARSH MAHESHWARI\n",
      "PRUTHVIRAJ NIKAM\n",
      "AASHI BHARDWAJ\n",
      "• Analytics\n",
      "Hardik Panchal\n",
      "Elanchezhian K R\n",
      "PRANAV LADHE\n",
      "Vipin Kumar\n",
      "ADITYA DIGAMBAR JOSHI\n",
      "TANISHKA JOHRI\n",
      "SERVING IN\n",
      "ARPAN DATTA\n",
      "Prathmesh Morane\n",
      "Data Structure\n",
      "RASHMI KAKADE\n",
      "Education Qualification\n",
      "SUMAN KUMAR GOUDA\n",
      "AJAY S YENARE\n",
      "Aishwarya Shinde\n",
      "Inferential Statistics\n",
      "SHITAL NERKAR\n",
      "Data Science\n",
      "\n",
      "Banaras Hindu\n",
      "DEPALI RAHEJA\n",
      "Vicky Kumar\n",
      "ANKIT SHARMA\n",
      "Sarwesh P\n",
      "SATHEESH NP\n",
      "SOURAV BERA\n",
      "Secondary School\n",
      "SHRESTHA DE\n",
      "Aalekh Roy\n"
     ]
    }
   ],
   "source": [
    "path='/Users/gopalgoyal/Aryma Labs/ResumeParser/NLP Resumes additional'\n",
    "data=extract_details(path)"
   ]
  },
  {
   "cell_type": "code",
   "execution_count": 3,
   "metadata": {},
   "outputs": [
    {
     "name": "stdout",
     "output_type": "stream",
     "text": [
      "Aim of this\n",
      "ANIL JATOLIYA\n",
      "Aravind Sundarraj\n",
      "Yash Jain\n",
      "Adrija Karmakar\n",
      "AMRITHA K\n",
      "Maksud Girase\n",
      "IVIN SIBY GEORGE\n",
      "PRANOY ARUN DAS\n",
      "Suvendu Samanta\n",
      "SYED MD NADEEM\n",
      "SHARMISTHA ADHIKARI\n",
      "Nishi Chaudhary\n",
      "Nimesh Srivastava\n",
      "Mr. Shubham Sambhaji Salokhe\n",
      "Python Programmer\n",
      "ARYAMAAN SAHA\n",
      "Hima Sindhu\n",
      "Sakar Baxi\n",
      "Myself Swathi\n",
      "PRANAV KUMAR SINGH\n",
      "PRIYANKA MEENA\n",
      "Profile Summary\n",
      "Summary\n",
      "(+91\n",
      "Nandhini Ravisankar\n",
      "M. Sc\n",
      "City, State\n",
      "Approach\n",
      "Pratik Sonar\n",
      "Risha Rodrigues\n",
      "KAZI JISHAN\n",
      "Hrushikesh Chaphalkar\n",
      "Ujwal Shantaram Nafade\n",
      "Deeksha Chutani\n",
      "Kishan Kumar\n",
      "Tirna Mahajan\n",
      "Ramkrishna Khan\n",
      "Riya Saxena\n",
      "\n",
      "AMAN HUSAIN\n",
      "Mob.\n",
      "Pratyush Menon\n",
      "Rama Gokhale\n",
      "Rashmi Biswas\n",
      "BICKEY SHAH\n",
      "Anup Roy\n",
      "Working Feb\n",
      "Adarsh Kumar\n",
      "Kavya Aripekatta Mohan\n",
      "PIYUSH DESHMUKH\n",
      "SRIBATSA MOHRANA\n",
      "ANIKET ROUTH\n",
      "ARITRA CHAKRABORTY\n",
      "DEVADUTTA DASH\n",
      "NATASHA AGARWAL\n",
      "KRISHNA RAUNIYAR\n",
      "T. Harish\n",
      "HARSH MAHESHWARI\n",
      "PRUTHVIRAJ NIKAM\n",
      "AASHI BHARDWAJ\n",
      "• Analytics\n",
      "Hardik Panchal\n",
      "Elanchezhian K R\n",
      "PRANAV LADHE\n",
      "Vipin Kumar\n",
      "ADITYA DIGAMBAR JOSHI\n",
      "TANISHKA JOHRI\n",
      "SERVING IN\n",
      "ARPAN DATTA\n",
      "Prathmesh Morane\n",
      "Data Structure\n",
      "RASHMI KAKADE\n",
      "Education Qualification\n",
      "SUMAN KUMAR GOUDA\n",
      "AJAY S YENARE\n",
      "Aishwarya Shinde\n",
      "Inferential Statistics\n",
      "SHITAL NERKAR\n",
      "Data Science\n",
      "\n",
      "Banaras Hindu\n",
      "DEPALI RAHEJA\n",
      "Vicky Kumar\n",
      "ANKIT SHARMA\n",
      "Sarwesh P\n",
      "SATHEESH NP\n",
      "SOURAV BERA\n",
      "Secondary School\n",
      "SHRESTHA DE\n",
      "Aalekh Roy\n"
     ]
    }
   ],
   "source": [
    "for i in data:\n",
    "    print(\" \".join(i['Name'][0].split()))"
   ]
  },
  {
   "cell_type": "code",
   "execution_count": null,
   "metadata": {},
   "outputs": [],
   "source": [
    "!pip install -U sentence-transformers"
   ]
  },
  {
   "cell_type": "code",
   "execution_count": null,
   "metadata": {},
   "outputs": [],
   "source": [
    "from sentence_transformers import SentenceTransformer\n",
    "import torch\n",
    "sentences = [\"This is an example sentence\", \"This is an example sentence\"]\n",
    "\n",
    "model = SentenceTransformer('sentence-transformers/all-mpnet-base-v2')\n",
    "embeddings = model.encode(sentences)"
   ]
  },
  {
   "cell_type": "code",
   "execution_count": 5,
   "metadata": {},
   "outputs": [
    {
     "data": {
      "text/plain": [
       "tensor(0.8604)"
      ]
     },
     "execution_count": 5,
     "metadata": {},
     "output_type": "execute_result"
    }
   ],
   "source": [
    "from symenticSimilarity import sementic_similariy\n",
    "sementic_similariy(model,\"hi\",\"hello\")"
   ]
  },
  {
   "cell_type": "code",
   "execution_count": 1,
   "metadata": {},
   "outputs": [
    {
     "data": {
      "text/plain": [
       "['Essential: 3+ years of experience as a data scientist',\n",
       " ' Hands on expertise in Predictive Modelling, Machine Learning, Customer Segmentation, EDA etc',\n",
       " ' Proficiency with SQL, Python',\n",
       " ' Knowledge of data structures, relational data, and big data platforms',\n",
       " ' Demonstrate experience and understanding of Machine Learning, e',\n",
       " 'g',\n",
       " ': linear/logistics regression, random forest, SVM, neural networks, etc',\n",
       " ' Proficiency with machine and deep learning frameworks such as TensorFlow, Keras',\n",
       " ' Experience with techniques to retrieve actionable feature insight from deep neural networks',\n",
       " ' Desirable: Metal & Mining sector experience',\n",
       " ' Contribution to industry/open source communities',\n",
       " ' Experience of working within a multicultural, global environment',\n",
       " ' Experience of working in a fast moving and changing environment',\n",
       " ' Experience with NLP and linguistic approaches for retrieval, interpretation, and pushing of insight from scientific literature',\n",
       " \" Personal Skills: Strong communication skills, both written and verbal Ability to manage stakeholders' expectations and work in a high-pressure environment\",\n",
       " ' Demonstrate strong ownership & commitment to the cause of customer success',\n",
       " ' A team player capable of high performance, flexibility in a dynamic working environment and the ability to lead']"
      ]
     },
     "execution_count": 1,
     "metadata": {},
     "output_type": "execute_result"
    }
   ],
   "source": [
    "with open('dataScientiest.txt') as f:\n",
    "    lines = f.readlines()\n",
    "jd = \" \".join(lines)\n",
    "jd = \" \".join(jd.split())\n",
    "jd_sen=jd.split('.')\n",
    "jd_sen"
   ]
  },
  {
   "cell_type": "code",
   "execution_count": 2,
   "metadata": {},
   "outputs": [],
   "source": [
    "from keywords import keyword\n",
    "key=set(keyword)\n"
   ]
  },
  {
   "cell_type": "code",
   "execution_count": 3,
   "metadata": {},
   "outputs": [],
   "source": [
    "from extractText import extract_text_from_pdf\n",
    "text=(extract_text_from_pdf('../resumes/Aditya_Dawn_CV (1).pdf'))"
   ]
  },
  {
   "cell_type": "code",
   "execution_count": null,
   "metadata": {},
   "outputs": [],
   "source": [
    "text"
   ]
  },
  {
   "cell_type": "code",
   "execution_count": null,
   "metadata": {},
   "outputs": [],
   "source": [
    "sen_resume=text.split(\"\\n\")\n",
    "sen_resume"
   ]
  },
  {
   "cell_type": "code",
   "execution_count": 6,
   "metadata": {},
   "outputs": [
    {
     "name": "stderr",
     "output_type": "stream",
     "text": [
      "/Users/gopalgoyal/opt/anaconda3/envs/cenv/lib/python3.10/site-packages/tqdm/auto.py:22: TqdmWarning: IProgress not found. Please update jupyter and ipywidgets. See https://ipywidgets.readthedocs.io/en/stable/user_install.html\n",
      "  from .autonotebook import tqdm as notebook_tqdm\n"
     ]
    }
   ],
   "source": [
    "from symenticSimilarity import filter,sementic_similariy\n",
    "filterd_res,filterd_jd=filter(key,jd_sen,sen_resume)"
   ]
  },
  {
   "cell_type": "code",
   "execution_count": 7,
   "metadata": {},
   "outputs": [
    {
     "ename": "NameError",
     "evalue": "name 'model' is not defined",
     "output_type": "error",
     "traceback": [
      "\u001b[0;31m---------------------------------------------------------------------------\u001b[0m",
      "\u001b[0;31mNameError\u001b[0m                                 Traceback (most recent call last)",
      "\u001b[1;32m/Users/gopalgoyal/Desktop/resume parsing/nlp/test.ipynb Cell 14\u001b[0m in \u001b[0;36m<cell line: 1>\u001b[0;34m()\u001b[0m\n\u001b[0;32m----> <a href='vscode-notebook-cell:/Users/gopalgoyal/Desktop/resume%20parsing/nlp/test.ipynb#X15sZmlsZQ%3D%3D?line=0'>1</a>\u001b[0m sementic_similariy(model,filterd_jd,filterd_res)\n",
      "\u001b[0;31mNameError\u001b[0m: name 'model' is not defined"
     ]
    }
   ],
   "source": [
    "\n",
    "sementic_similariy(model,filterd_jd,filterd_res)"
   ]
  },
  {
   "cell_type": "code",
   "execution_count": 7,
   "metadata": {},
   "outputs": [
    {
     "name": "stdout",
     "output_type": "stream",
     "text": [
      "Ravikant Kumar _Resume.pdf\n",
      "Anil_latex_cv.pdf\n",
      "Aravind-Sundarraj-Marketing-Analytics (1).pdf\n",
      "Yash Jain Resume (1).pdf\n",
      "Adrija Karmakar_CV.pdf\n",
      "AmrithaK_NLPInternship_IITM.pdf\n",
      "MaksudGiraseResume-1.pdf\n",
      "Ivin Siby George (7) (1) (1).pdf\n",
      "Pranoy-Das.pdf\n",
      "suvendu_samanta_cv_2.pdf\n",
      "Syed Md Nadeem CV MMM (1).pdf\n",
      "Sharmistha Adhikari_CV.pdf\n",
      "Nishi_R_sum_ (1).pdf\n",
      "Resume (6).pdf\n",
      "shubham_salokhe_resume.pdf\n",
      "Sainath-Rathod-1-CVV.pdf\n",
      "Aryamaan_Resume (1).pdf\n",
      "Hima_Resume.pdf\n",
      "Resume Sakar Baxi.pdf\n",
      "swathi.prasannan_SASFresher (1).pdf\n",
      "Resume_Pranav_Kumar_Singh (2).pdf\n",
      "Priyanka_cv .pdf\n",
      "Resume_pavan_27121.pdf\n",
      "Sneha_Gohil resume (1).pdf\n",
      "Aditya_Dawn_CV (1).pdf\n",
      "Nandhini's Resume apr25.pdf\n",
      "Resume - AAKANKSHA.pdf\n",
      "Akash_Shinde1-1 (1).pdf\n",
      "Resume Panshul Rastogi 2022 (1).pdf\n",
      "Pratik_Sonar_Data_Scientist_3_Year_Experience.pdf\n",
      "Risha Rodrigues Resume.pdf\n",
      "Kazi_Jishan_Zaman_Resume (1).pdf\n",
      "Hrushikesh_August22.pdf\n",
      "ujwal nafade--.pdf\n",
      "Deeksha1.pdf\n",
      "KishanKumar-Resume.pdf\n",
      "TirnaMahajan_Resume.pdf\n",
      "RESUME_RamkrishnaKhan (1).pdf\n",
      "Riya_Resume.pdf\n",
      "AMAN's Resume.pdf\n",
      "raksha_resume_Dec2022.pdf\n",
      "Resume-Pratyush-Menon-Latest.pdf\n",
      "rama-resume-latest.pdf\n",
      "Rashmi-Biswas.pdf\n",
      "Bickey_Shah_Resume.pdf\n",
      "20111403_1.pdf\n",
      "Resume-sartaj.pdf\n",
      "AdarshKumar_IITpalakkad_Resume.pdf\n",
      "Kavya-A-M-Resume.pdf\n",
      "piyush-Deshmukh.pdf\n",
      "Aniket_Internship.pdf\n",
      "Copy of AritraChakraborty_QR2205.pdf\n",
      "19075092_Devadutta _Dash_Dev (1).pdf\n",
      "Resume_ Natasha Agarwal.pdf\n",
      "Krishna_Rauniyar.pdf\n",
      "Harish_Resume_03222 (1).pdf\n",
      "Resume_Harsh_Maheshwari.pdf\n",
      "DS_PRUTHVIRAJ CV.pdf\n",
      "Aashi Bhardwaj MMM_MTA 2 years of Experience.pdf\n",
      "Resume (CHANDRAJITH V).pdf\n",
      "HardikPanchal_Profile.pdf\n",
      "Elanchezhian K R(UPDATED).pdf\n",
      "Pranav_Ladhe.pdf\n",
      "Vipin Kumar Resume.pdf\n",
      "_ADITYA_DIGAMBAR JOSHI_Resume_.pdf\n",
      "Tanishka_Johri_NMIMS_CV.pdf\n",
      "Giridharan_PLSQL_ApplicationSupport-1.pdf\n",
      "Arpan_Datta_Resume _ (1).pdf\n",
      "Prathmesh Morane.Resume.pdf\n",
      "Rohit Lohani M.Tech Resume.pdf\n",
      "RESUME (5).pdf\n",
      "Madineni Dileep kumar.pdf\n",
      "suman_gouda_cv.pdf\n",
      "Ajay-Yenare-Data-Sci_Fresher.pdf\n",
      "Aishwarya_Suresh_Shinde.pdf\n",
      "Prithvi_CVPDF11262022 (2).pdf\n",
      "Shital-Nerkar_ML-Engineer-2_1670068691598_Shital-Nerkar.pdf\n",
      "Ananthakrishnan S_Resume.pdf\n",
      "Resume (4).pdf\n",
      "Share Resume(.) (2).pdf\n",
      "Depali Raheja_Resume (1).pdf\n",
      "Vicky-Resume.pdf\n",
      "Ankit_Sharma.pdf\n",
      "Sarwesh_CV -2.pdf\n",
      "Satheesh-NP_Updated-Resume.pdf\n",
      "Sourav Bera _ Resume.pdf\n",
      "S_Karan_KumarResume_238ead07-0097-448f-aef3-d31df8c8d1c3.pdf\n",
      "SHRESTHA DE_CV_2022.pdf\n",
      "My_CV.pdf\n"
     ]
    }
   ],
   "source": [
    "import os\n",
    "corpus=[]\n",
    "dir='../resumes'\n",
    "corpus=[]\n",
    "data=[]\n",
    "i=0\n",
    "for filename in os.listdir(dir):\n",
    "  print(filename)\n",
    "  text=extract_text_from_pdf(dir+\"/\"+filename)\n",
    "  # print(text)\n",
    "  corpus.append(text)\n",
    "  data.append((i,filename))\n",
    "  i+=1\n",
    "    # we insert the document into the 'title' field"
   ]
  },
  {
   "cell_type": "code",
   "execution_count": 8,
   "metadata": {},
   "outputs": [],
   "source": [
    "from ContextSimilirity import get_similarity"
   ]
  },
  {
   "cell_type": "code",
   "execution_count": 9,
   "metadata": {},
   "outputs": [],
   "source": [
    "res=get_similarity(jd,corpus)"
   ]
  },
  {
   "cell_type": "code",
   "execution_count": 12,
   "metadata": {},
   "outputs": [],
   "source": [
    "d=res"
   ]
  },
  {
   "cell_type": "code",
   "execution_count": 13,
   "metadata": {},
   "outputs": [],
   "source": [
    "d.sort()"
   ]
  },
  {
   "cell_type": "code",
   "execution_count": 18,
   "metadata": {},
   "outputs": [
    {
     "data": {
      "text/plain": [
       "('1.111',\n",
       " 12,\n",
       " 'Nishi Chaudhary\\n1st Year Postgraduate\\nEmail : nishiteotia14@gmail.com\\nDepartment of Mathematics and Statistics\\nPhone : +91-8126861527\\nAcademic Qualifications\\nYear\\nDegree/Certificate\\nInstitute\\nCPI/%\\n2022- present\\nM.Sc\\nHarcourt Butler Technical University , Kanpur\\nNA\\n2021\\nB.Sc\\nDPBS Govt. College , Anoopshahr (CCS University ,\\nMeerut)\\n74.5%\\n2018\\nCBSE(XII)\\nSaint Aerjay Public School, Bulandshahr\\n82.6%\\n2016\\nCBSE(X)\\nSaint Momina School, Bulandshahr\\n10/10\\nScholastic Achievements\\n• Secured All India Rank 319 in IIT JAM Staticstics 2022.\\n• Secured All India Rank 1993 in IIT JAM Mathematics 2022.\\n• Selected for Integrated PhD interview 2022 at IISER Thiruvananthapuram.\\nTechnical Skills\\n• Programming Languages:\\nMATLab, Python, R\\n• Software and Libraries:\\nMS-Office, MS-Excel, MS-Word\\nPositions of Responsibility\\n• School Captain\\n(2015-16)\\nRelevant Courses\\nLinear Programming and computational Tech\\nApplied Statistics\\nProbability and statistics with R\\nStatistical Methods\\nProgramming (Python)\\nPrinciples of Data Science with Python\\nComputational Linear Algebra with MATLab\\nStatistical Inference\\nReal Analysis\\nDifferential Equations\\nExtra-Curricular Activities\\n• Subject Matter Expert , Chegg.\\ni\\n')"
      ]
     },
     "execution_count": 18,
     "metadata": {},
     "output_type": "execute_result"
    }
   ],
   "source": [
    "d[1]"
   ]
  },
  {
   "cell_type": "code",
   "execution_count": 34,
   "metadata": {},
   "outputs": [],
   "source": [
    "b=[]"
   ]
  },
  {
   "cell_type": "code",
   "execution_count": 35,
   "metadata": {},
   "outputs": [],
   "source": [
    "for i in range(len(d)):\n",
    "    b.append([float(d[i][0]),d[i][1]])\n",
    "    "
   ]
  },
  {
   "cell_type": "code",
   "execution_count": 37,
   "metadata": {},
   "outputs": [],
   "source": [
    "b.sort()"
   ]
  },
  {
   "cell_type": "code",
   "execution_count": 41,
   "metadata": {},
   "outputs": [
    {
     "data": {
      "text/plain": [
       "(76, 'Shital-Nerkar_ML-Engineer-2_1670068691598_Shital-Nerkar.pdf')"
      ]
     },
     "execution_count": 41,
     "metadata": {},
     "output_type": "execute_result"
    }
   ],
   "source": [
    "data[b[-2][1]]"
   ]
  },
  {
   "cell_type": "code",
   "execution_count": null,
   "metadata": {},
   "outputs": [],
   "source": []
  }
 ],
 "metadata": {
  "kernelspec": {
   "display_name": "cenv",
   "language": "python",
   "name": "python3"
  },
  "language_info": {
   "codemirror_mode": {
    "name": "ipython",
    "version": 3
   },
   "file_extension": ".py",
   "mimetype": "text/x-python",
   "name": "python",
   "nbconvert_exporter": "python",
   "pygments_lexer": "ipython3",
   "version": "3.10.4 (main, Mar 31 2022, 03:38:35) [Clang 12.0.0 ]"
  },
  "orig_nbformat": 4,
  "vscode": {
   "interpreter": {
    "hash": "d4cb40b04275ae74a6343681b15b4b0b9f4a829fec7de5c229d9639d7d7cba7a"
   }
  }
 },
 "nbformat": 4,
 "nbformat_minor": 2
}
