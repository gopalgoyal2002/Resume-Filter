{
 "cells": [
  {
   "cell_type": "code",
   "execution_count": 1,
   "metadata": {},
   "outputs": [],
   "source": [
    "from nlp.pipeline import extract_details\n",
    "import os"
   ]
  },
  {
   "cell_type": "code",
   "execution_count": 2,
   "metadata": {},
   "outputs": [
    {
     "name": "stdout",
     "output_type": "stream",
     "text": [
      "/Users/gopalgoyal/Desktop/resume parsing/App/uploadApp/mainapp/mainapp/nlp/model\n"
     ]
    },
    {
     "ename": "OSError",
     "evalue": "[E050] Can't find model '/Users/gopalgoyal/Desktop/resume parsing/App/uploadApp/mainapp/mainapp/nlp/model'. It doesn't seem to be a shortcut link, a Python package or a valid path to a data directory.",
     "output_type": "error",
     "traceback": [
      "\u001b[0;31m---------------------------------------------------------------------------\u001b[0m",
      "\u001b[0;31mOSError\u001b[0m                                   Traceback (most recent call last)",
      "\u001b[1;32m/Users/gopalgoyal/Desktop/resume parsing/App/uploadApp/mainapp/test.ipynb Cell 2\u001b[0m in \u001b[0;36m<cell line: 1>\u001b[0;34m()\u001b[0m\n\u001b[0;32m----> <a href='vscode-notebook-cell:/Users/gopalgoyal/Desktop/resume%20parsing/App/uploadApp/mainapp/test.ipynb#W1sZmlsZQ%3D%3D?line=0'>1</a>\u001b[0m x,y\u001b[39m=\u001b[39mextract_details([\u001b[39m'\u001b[39;49m\u001b[39m/Users/gopalgoyal/Desktop/resume parsing/App/uploadApp/media/_ADITYA_DIGAMBAR JOSHI_Resume__efwwSfj.pdf\u001b[39;49m\u001b[39m'\u001b[39;49m])\n\u001b[1;32m      <a href='vscode-notebook-cell:/Users/gopalgoyal/Desktop/resume%20parsing/App/uploadApp/mainapp/test.ipynb#W1sZmlsZQ%3D%3D?line=1'>2</a>\u001b[0m x\n",
      "File \u001b[0;32m~/Desktop/resume parsing/App/uploadApp/mainapp/nlp/pipeline.py:30\u001b[0m, in \u001b[0;36mextract_details\u001b[0;34m(list_of_paths)\u001b[0m\n\u001b[1;32m     28\u001b[0m     email\u001b[39m=\u001b[39mextract_emails(text)[\u001b[39m0\u001b[39m]\n\u001b[1;32m     29\u001b[0m name\u001b[39m=\u001b[39mextract_name_from_spacy(text)[\u001b[39m0\u001b[39m]\n\u001b[0;32m---> 30\u001b[0m deatils\u001b[39m=\u001b[39mextract_entities_wih_custom_model(resume_text\u001b[39m=\u001b[39;49mtext,path_of_model\u001b[39m=\u001b[39;49mos\u001b[39m.\u001b[39;49mgetcwd()\u001b[39m+\u001b[39;49m\u001b[39m'\u001b[39;49m\u001b[39m/mainapp/nlp\u001b[39;49m\u001b[39m'\u001b[39;49m\u001b[39m+\u001b[39;49m\u001b[39m'\u001b[39;49m\u001b[39m/model\u001b[39;49m\u001b[39m'\u001b[39;49m)\n\u001b[1;32m     31\u001b[0m \u001b[39mif\u001b[39;00m(\u001b[39m'\u001b[39m\u001b[39mName\u001b[39m\u001b[39m'\u001b[39m \u001b[39mnot\u001b[39;00m \u001b[39min\u001b[39;00m deatils):\n\u001b[1;32m     32\u001b[0m     deatils[\u001b[39m'\u001b[39m\u001b[39mName\u001b[39m\u001b[39m'\u001b[39m]\u001b[39m=\u001b[39m[name]\n",
      "File \u001b[0;32m~/Desktop/resume parsing/App/uploadApp/mainapp/nlp/extractName.py:38\u001b[0m, in \u001b[0;36mextract_entities_wih_custom_model\u001b[0;34m(resume_text, path_of_model)\u001b[0m\n\u001b[1;32m     33\u001b[0m \u001b[39m\"\"\"\u001b[39;00m\n\u001b[1;32m     34\u001b[0m \u001b[39mresume_text: text to find name in string formet using custom spacy model\u001b[39;00m\n\u001b[1;32m     35\u001b[0m \u001b[39mreturn: Name of the presons\u001b[39;00m\n\u001b[1;32m     36\u001b[0m \u001b[39m\"\"\"\u001b[39;00m\n\u001b[1;32m     37\u001b[0m \u001b[39mprint\u001b[39m(path_of_model)\n\u001b[0;32m---> 38\u001b[0m nlp \u001b[39m=\u001b[39m spacy\u001b[39m.\u001b[39;49mload(path_of_model)\n\u001b[1;32m     39\u001b[0m custom_nlp_text\u001b[39m=\u001b[39mnlp(resume_text)\n\u001b[1;32m     40\u001b[0m entities \u001b[39m=\u001b[39m {}\n",
      "File \u001b[0;32m~/opt/anaconda3/envs/cenv/lib/python3.10/site-packages/spacy/__init__.py:30\u001b[0m, in \u001b[0;36mload\u001b[0;34m(name, **overrides)\u001b[0m\n\u001b[1;32m     28\u001b[0m \u001b[39mif\u001b[39;00m depr_path \u001b[39mnot\u001b[39;00m \u001b[39min\u001b[39;00m (\u001b[39mTrue\u001b[39;00m, \u001b[39mFalse\u001b[39;00m, \u001b[39mNone\u001b[39;00m):\n\u001b[1;32m     29\u001b[0m     warnings\u001b[39m.\u001b[39mwarn(Warnings\u001b[39m.\u001b[39mW001\u001b[39m.\u001b[39mformat(path\u001b[39m=\u001b[39mdepr_path), \u001b[39mDeprecationWarning\u001b[39;00m)\n\u001b[0;32m---> 30\u001b[0m \u001b[39mreturn\u001b[39;00m util\u001b[39m.\u001b[39;49mload_model(name, \u001b[39m*\u001b[39;49m\u001b[39m*\u001b[39;49moverrides)\n",
      "File \u001b[0;32m~/opt/anaconda3/envs/cenv/lib/python3.10/site-packages/spacy/util.py:175\u001b[0m, in \u001b[0;36mload_model\u001b[0;34m(name, **overrides)\u001b[0m\n\u001b[1;32m    173\u001b[0m \u001b[39melif\u001b[39;00m \u001b[39mhasattr\u001b[39m(name, \u001b[39m\"\u001b[39m\u001b[39mexists\u001b[39m\u001b[39m\"\u001b[39m):  \u001b[39m# Path or Path-like to model data\u001b[39;00m\n\u001b[1;32m    174\u001b[0m     \u001b[39mreturn\u001b[39;00m load_model_from_path(name, \u001b[39m*\u001b[39m\u001b[39m*\u001b[39moverrides)\n\u001b[0;32m--> 175\u001b[0m \u001b[39mraise\u001b[39;00m \u001b[39mIOError\u001b[39;00m(Errors\u001b[39m.\u001b[39mE050\u001b[39m.\u001b[39mformat(name\u001b[39m=\u001b[39mname))\n",
      "\u001b[0;31mOSError\u001b[0m: [E050] Can't find model '/Users/gopalgoyal/Desktop/resume parsing/App/uploadApp/mainapp/mainapp/nlp/model'. It doesn't seem to be a shortcut link, a Python package or a valid path to a data directory."
     ]
    }
   ],
   "source": [
    "x,y=extract_details(['/Users/gopalgoyal/Desktop/resume parsing/App/uploadApp/media/_ADITYA_DIGAMBAR JOSHI_Resume__efwwSfj.pdf'])\n",
    "x"
   ]
  },
  {
   "cell_type": "code",
   "execution_count": 4,
   "metadata": {},
   "outputs": [
    {
     "data": {
      "text/plain": [
       "[{'Name': ['(+91'],\n",
       "  'Location': ['Kolkata'],\n",
       "  'Companies worked at': ['Cloudcraftz Solutions Pvt Ltd'],\n",
       "  'Skills': ['Time management, Communication, Adaptability, Problem-solving, Teamwork\\nCommunication\\nFluent in English and Hindi, Native Bengali Speaker\\nPOSTER PUBLICATION'],\n",
       "  'Degree': ['Master of Science in Data Science',\n",
       "   'Bachelor of Science (Honours) in Statistics'],\n",
       "  'phone_number': '+91) 8902690755',\n",
       "  'email': 'adityadawn98@gmail.com',\n",
       "  'file_name': '/Users/gopalgoyal/Desktop/resume parsing/App/uploadApp/mainapp/media/Aditya_Dawn_CV (1).pdf'}]"
      ]
     },
     "execution_count": 4,
     "metadata": {},
     "output_type": "execute_result"
    }
   ],
   "source": [
    "x"
   ]
  },
  {
   "cell_type": "code",
   "execution_count": null,
   "metadata": {},
   "outputs": [],
   "source": []
  },
  {
   "cell_type": "code",
   "execution_count": null,
   "metadata": {},
   "outputs": [],
   "source": []
  },
  {
   "cell_type": "code",
   "execution_count": null,
   "metadata": {},
   "outputs": [],
   "source": []
  },
  {
   "cell_type": "code",
   "execution_count": null,
   "metadata": {},
   "outputs": [],
   "source": []
  }
 ],
 "metadata": {
  "kernelspec": {
   "display_name": "cenv",
   "language": "python",
   "name": "python3"
  },
  "language_info": {
   "codemirror_mode": {
    "name": "ipython",
    "version": 3
   },
   "file_extension": ".py",
   "mimetype": "text/x-python",
   "name": "python",
   "nbconvert_exporter": "python",
   "pygments_lexer": "ipython3",
   "version": "3.10.4"
  },
  "orig_nbformat": 4,
  "vscode": {
   "interpreter": {
    "hash": "d4cb40b04275ae74a6343681b15b4b0b9f4a829fec7de5c229d9639d7d7cba7a"
   }
  }
 },
 "nbformat": 4,
 "nbformat_minor": 2
}
